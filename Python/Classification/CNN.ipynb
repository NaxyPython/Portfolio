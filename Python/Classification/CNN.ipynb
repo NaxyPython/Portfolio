{
 "cells": [
  {
   "cell_type": "markdown",
   "metadata": {
    "colab_type": "text",
    "id": "view-in-github"
   },
   "source": [
    "<a href=\"https://colab.research.google.com/github/NaxyPython/TP_Python/blob/main/TP6_Boutrin.ipynb\" target=\"_parent\"><img src=\"https://colab.research.google.com/assets/colab-badge.svg\" alt=\"Open In Colab\"/></a>"
   ]
  },
  {
   "cell_type": "markdown",
   "metadata": {},
   "source": [
    "# Building a Convolutional Neural Network (CNN) for Image Classification: Cats, Dogs, Horses, and Humans"
   ]
  },
  {
   "cell_type": "code",
   "execution_count": 1,
   "metadata": {
    "id": "kK21-0mJ9vTo"
   },
   "outputs": [],
   "source": [
    "import os\n",
    "import cv2\n",
    "# si nécessaire : conda install -c conda-forge opencv\n",
    "# ou sinon : https://pypi.org/project/opencv-python/\n",
    "import numpy as np\n",
    "import matplotlib.pyplot as plt\n",
    "from sklearn.utils import shuffle\n",
    "from sklearn.model_selection import train_test_split"
   ]
  },
  {
   "cell_type": "code",
   "execution_count": null,
   "metadata": {
    "id": "YJSsN4zn9weW"
   },
   "outputs": [],
   "source": [
    "from tensorflow.keras.models import Sequential\n",
    "from tensorflow.keras.layers import Dense, Dropout, Activation, Flatten, Conv2D, MaxPooling2D\n",
    "from tensorflow.keras.optimizers import SGD, RMSprop, Adam, Adadelta\n",
    "from tensorflow.keras.utils import to_categorical"
   ]
  },
  {
   "cell_type": "code",
   "execution_count": null,
   "metadata": {
    "id": "hbZ_S_D3rjPg"
   },
   "outputs": [],
   "source": [
    "from google.colab import files\n",
    "\n",
    "# Importation du fichier zip contenant les dossiers d'images\n",
    "uploaded = files.upload()"
   ]
  },
  {
   "cell_type": "code",
   "execution_count": null,
   "metadata": {
    "id": "-a2pve6txT4r"
   },
   "outputs": [],
   "source": [
    "import zipfile\n",
    "import os\n",
    "\n",
    "# On parcours tous les fichiers zip pour en extraire leurs contenus\n",
    "for zip_file in uploaded.keys():#boucle sur les clés(i.e fichirs zip) du dictionnaire uploaded.\n",
    "    with zipfile.ZipFile(zip_file, 'r') as zip_ref:#pour ouvrir les fichiers zip en lecture seule\n",
    "        zip_ref.extractall(os.path.splitext(zip_file)[0])  #Pour extraire tous les fichiers et dossiers pour les placer dans un dossier portant le nom du fichier zip\n"
   ]
  },
  {
   "cell_type": "code",
   "execution_count": null,
   "metadata": {
    "id": "LAIwSnmm3O2J"
   },
   "outputs": [],
   "source": [
    "import zipfile\n",
    "\n",
    "# Chemin du fichier zip contenant les images\n",
    "chemin_du_fichier_zip = '/content/Animals/Animals/data_animals.zip'\n",
    "\n",
    "# Extraction des fichiers\n",
    "with zipfile.ZipFile(chemin_du_fichier_zip, 'r') as zip_ref:\n",
    "    zip_ref.extractall('/content/Animals/Animals/')\n"
   ]
  },
  {
   "cell_type": "code",
   "execution_count": null,
   "metadata": {
    "id": "7k92GSrixeWv"
   },
   "outputs": [],
   "source": [
    "import os\n",
    "from PIL import Image\n",
    "\n",
    "# Chemin du dossier contenant les dossiers d'images\n",
    "chemin_dossier_images = '/content/Animals/Animals/data_animals'\n",
    "\n",
    "# Liste des classes (noms des sous-dossiers)\n",
    "classes = os.listdir(chemin_dossier_images)\n",
    "\n",
    "# Ici, on parcours les classes\n",
    "for classe in classes:\n",
    "    classe_path = os.path.join(chemin_dossier_images, classe)\n",
    "    if os.path.isdir(classe_path):\n",
    "        # Puis on parcours les images dans chaque classe\n",
    "        for image_file in os.listdir(classe_path):\n",
    "            image_path = os.path.join(classe_path, image_file)\n",
    "            img = Image.open(image_path)"
   ]
  },
  {
   "cell_type": "code",
   "execution_count": null,
   "metadata": {
    "id": "4LluLbo45lVU"
   },
   "outputs": [],
   "source": [
    "input_img_raw = cv2.imread(os.path.join(classe_path, img))\n",
    "if input_img_raw is not None:\n",
    "    # Verification si le chargement de l'image a réussi\n",
    "    input_img_grey = cv2.cvtColor(input_img_raw, cv2.COLOR_BGR2GRAY) if num_channel == 1 else input_img_raw\n",
    "    input_img_resized = cv2.resize(input_img_grey, (img_rows, img_cols))\n",
    "    input_img_flatten = input_img_resized.flatten()\n",
    "    img_data_list.append(input_img_flatten)\n",
    "else:\n",
    "    print(f'Impossible de charger l image : {img}')\n"
   ]
  },
  {
   "cell_type": "code",
   "execution_count": null,
   "metadata": {
    "colab": {
     "base_uri": "https://localhost:8080/"
    },
    "id": "Arm_8cwH3vNp",
    "outputId": "090e1fd9-be7c-406e-cf55-f52953c45b49"
   },
   "outputs": [],
   "source": [
    "img_rows=128\n",
    "img_cols=128\n",
    "print(f'le format est:',img_rows*img_cols)"
   ]
  },
  {
   "cell_type": "code",
   "execution_count": null,
   "metadata": {
    "id": "FxxUu3jY31fd"
   },
   "outputs": [],
   "source": [
    "num_channel=1#On a donc plus qu'une seule valeur de pixel par emplacement dans l'image"
   ]
  },
  {
   "cell_type": "code",
   "execution_count": null,
   "metadata": {
    "colab": {
     "base_uri": "https://localhost:8080/"
    },
    "id": "h-6zR_JG68_B",
    "outputId": "b33f9298-cef6-48b4-d136-917ed361ac31"
   },
   "outputs": [],
   "source": [
    "import cv2\n",
    "import os\n",
    "import numpy as np\n",
    "from sklearn import preprocessing\n",
    "\n",
    "# Chemin du dossier contenant les dossiers d'images\n",
    "data_path = '/content/Animals/Animals/data_animals'\n",
    "\n",
    "# Liste des classes (noms des sous-dossiers)\n",
    "data_animals = ['cats', 'dogs', 'horses', 'Humans']\n",
    "\n",
    "# Nombre de canaux (1 pour échelle de gris, 3 pour RGB)\n",
    "num_channel = 1\n",
    "\n",
    "# Dimensions choisit pour les images\n",
    "img_rows, img_cols = 128, 128\n",
    "\n",
    "img_data_list = []\n",
    "\n",
    "# Parcours des classes\n",
    "for classe in data_animals:\n",
    "    classe_path = os.path.join(data_path, classe)\n",
    "    img_list = os.listdir(classe_path)\n",
    "\n",
    "    print('Loaded the images of dataset-' + '{}\\n'.format(classe))\n",
    "    for img in img_list:\n",
    "        image_path = os.path.join(classe_path, img)\n",
    "        input_img_raw = cv2.imread(image_path)\n",
    "        input_img_grey = cv2.cvtColor(input_img_raw, cv2.COLOR_BGR2GRAY) if num_channel == 1 else input_img_raw\n",
    "        input_img_resized = cv2.resize(input_img_grey, (img_rows, img_cols))\n",
    "        input_img_flatten = input_img_resized.flatten()\n",
    "        img_data_list.append(input_img_flatten)\n",
    "\n",
    "img_data = np.array(img_data_list)\n",
    "img_data = img_data.astype('float32')\n",
    "img_data_scaled = img_data / 255.0\n",
    "\n",
    "print(f'Les dimensions de img_data_scaled sont :', img_data_scaled.shape, 'où chaque ligne représente une image et chaque colonne contient les valeurs de pixels de l image')\n",
    "print(f'Moyenne de img_data_scaled :', np.mean(img_data_scaled))\n",
    "print(f'Écart type de img_data_scaled :', np.std(img_data_scaled))\n",
    "print(f'Moyenne des valeurs de pixel pour chaque emplacement dans toutes les images :', img_data_scaled.mean(axis=0))\n",
    "print(f'Écart type des valeurs de pixel pour chaque emplacement dans toutes les images :', img_data_scaled.std(axis=0))\n"
   ]
  },
  {
   "cell_type": "code",
   "execution_count": null,
   "metadata": {
    "colab": {
     "base_uri": "https://localhost:8080/"
    },
    "id": "t9aRYb5M7qH3",
    "outputId": "07b7225a-3ae3-45ac-9320-76937be327c0"
   },
   "outputs": [],
   "source": [
    "print(f\"La dimension du tableau img_data est : {img_data.shape}\")"
   ]
  },
  {
   "cell_type": "code",
   "execution_count": null,
   "metadata": {
    "colab": {
     "base_uri": "https://localhost:8080/"
    },
    "id": "UfkobguH7uX5",
    "outputId": "c1c47ae9-0c0f-4cbd-b355-58dfa1c34ce9"
   },
   "outputs": [],
   "source": [
    "print(img_data_scaled.shape)"
   ]
  },
  {
   "cell_type": "code",
   "execution_count": null,
   "metadata": {
    "colab": {
     "base_uri": "https://localhost:8080/"
    },
    "id": "lRDE27kn74GM",
    "outputId": "4baa17fb-3624-4ec7-a2ef-77ba9e1036cd"
   },
   "outputs": [],
   "source": [
    "img_data.shape[0]"
   ]
  },
  {
   "cell_type": "code",
   "execution_count": null,
   "metadata": {
    "colab": {
     "base_uri": "https://localhost:8080/"
    },
    "id": "YeDB4-hq78JY",
    "outputId": "9cdcf967-39db-4ea0-adca-adc5566d95fa"
   },
   "outputs": [],
   "source": [
    "img_data.shape[0]"
   ]
  },
  {
   "cell_type": "code",
   "execution_count": null,
   "metadata": {
    "colab": {
     "base_uri": "https://localhost:8080/"
    },
    "id": "NJpbKZPZ8AZX",
    "outputId": "c0da5585-1afa-434e-85b3-67181b3074c3"
   },
   "outputs": [],
   "source": [
    "img_rows*img_cols"
   ]
  },
  {
   "cell_type": "code",
   "execution_count": null,
   "metadata": {
    "colab": {
     "base_uri": "https://localhost:8080/"
    },
    "id": "x-tupNoz8EPy",
    "outputId": "438f9174-05ff-440c-f03f-360efa158b93"
   },
   "outputs": [],
   "source": [
    "img_data_reshape=img_data_scaled.reshape(img_data.shape[0],\n",
    "                                        img_rows,img_cols,\n",
    "                                        num_channel)\n",
    "print (img_data_reshape.shape)"
   ]
  },
  {
   "cell_type": "code",
   "execution_count": null,
   "metadata": {
    "colab": {
     "base_uri": "https://localhost:8080/"
    },
    "id": "-sVtuswP8HQc",
    "outputId": "61cbe43d-d5d7-44be-d13b-c97a3975e099"
   },
   "outputs": [],
   "source": [
    "input_shape=img_data_reshape[0].shape # (128, 128, 1)\n",
    "input_shape"
   ]
  },
  {
   "cell_type": "code",
   "execution_count": null,
   "metadata": {
    "id": "eiQsko0m8KWj"
   },
   "outputs": [],
   "source": [
    "num_of_samples = img_data_reshape.shape[0]\n",
    "labels = np.ones((num_of_samples,),dtype='int64')\n",
    "labels[0:202]=0\n",
    "labels[202:404]=1\n",
    "labels[404:606]=2\n",
    "labels[606:]=3\n",
    "\n",
    "names = ['cats','dogs','horses','humans']"
   ]
  },
  {
   "cell_type": "code",
   "execution_count": null,
   "metadata": {
    "colab": {
     "base_uri": "https://localhost:8080/"
    },
    "id": "9aEjKuzs85qQ",
    "outputId": "77a9a8ac-845f-4789-871e-d11a2dd2f668"
   },
   "outputs": [],
   "source": [
    "import os\n",
    "\n",
    "# Liste des noms de classes (noms de sous-dossiers)\n",
    "data_dir_list = os.listdir(data_path)\n",
    "\n",
    "# Noms de classes\n",
    "print(f'Les classes sont : {data_dir_list}')\n",
    "\n",
    "# Nombre de classes\n",
    "num_classes = len(data_dir_list)\n",
    "print(f'Il y a {num_classes} classes au total.')\n"
   ]
  },
  {
   "cell_type": "code",
   "execution_count": null,
   "metadata": {
    "id": "9yhEIAS_8N-n"
   },
   "outputs": [],
   "source": [
    "# Conversion en one-hot encoding\n",
    "one_hot_labels = np.eye(num_classes)[labels]"
   ]
  },
  {
   "cell_type": "code",
   "execution_count": null,
   "metadata": {
    "id": "9DGjVDf08QwE"
   },
   "outputs": [],
   "source": [
    "print(one_hot_labels)"
   ]
  },
  {
   "cell_type": "code",
   "execution_count": null,
   "metadata": {
    "colab": {
     "base_uri": "https://localhost:8080/"
    },
    "id": "q9txZXHp8Tmv",
    "outputId": "c32de937-efa4-42be-a39f-9feb53e543f9"
   },
   "outputs": [],
   "source": [
    "from sklearn.model_selection import train_test_split\n",
    "\n",
    "# Séparation des données en apprentissage et test, et redimensionement\n",
    "images_train,images_test,labels_train,labels_test = train_test_split(img_data_scaled, one_hot_labels, test_size=0.2, random_state=42)\n",
    "images_train = images_train.reshape(images_train.shape[0], img_rows, img_cols, num_channel)\n",
    "images_test = images_test.reshape(images_test.shape[0], img_rows, img_cols, num_channel)\n",
    "\n",
    "print(\"Dimensions de l'ensemble d'apprentissage:\",images_train.shape)\n",
    "print(\"Dimensions de l'ensemble de test:\", images_test.shape)"
   ]
  },
  {
   "cell_type": "code",
   "execution_count": null,
   "metadata": {
    "colab": {
     "base_uri": "https://localhost:8080/",
     "height": 826
    },
    "id": "fWVKfNIr8XW3",
    "outputId": "f9049654-c6f3-4b57-bae0-b1fc9156c313"
   },
   "outputs": [],
   "source": [
    "plt.figure(figsize=(10,10))\n",
    "for i in range(16):\n",
    "    plt.subplot(4,4,i+1)# 4 fois 4 images\n",
    "    plt.xticks([])\n",
    "    plt.yticks([])\n",
    "    plt.grid(False)\n",
    "    plt.imshow(images_train[i].squeeze(), cmap=plt.cm.gray)  # cmap=plt.cm.gray pour les images en niveaux de gris\n",
    "    plt.xlabel(names[np.argmax(labels_train[i])])  # nom de la classe en fonction de l'encodage \"one-hot encoding\"\n",
    "plt.show()"
   ]
  },
  {
   "cell_type": "code",
   "execution_count": null,
   "metadata": {
    "id": "6pGNQtFm94z7"
   },
   "outputs": [],
   "source": [
    "from tensorflow.keras import Sequential\n",
    "from tensorflow.keras.layers import Conv2D, Activation\n",
    "\n",
    "# Initialisation du modèle\n",
    "my_first_CNN = Sequential()\n",
    "\n",
    "# Première couche de convolution\n",
    "my_first_CNN.add(Conv2D(32, (3, 3), strides=(1, 1), padding='same', activation='relu', input_shape=(img_rows, img_cols, num_channel)))\n",
    "\n",
    "# Deuxième couche de convolution\n",
    "my_first_CNN.add(Conv2D(32, (3, 3), strides=(1, 1), padding='same', activation='relu'))\n",
    "\n",
    "# Troisième couche de convolution\n",
    "my_first_CNN.add(Conv2D(32, (3, 3), strides=(1, 1), padding='same', activation='relu'))\n",
    "\n",
    "# Quatrième couche de convolution\n",
    "my_first_CNN.add(Conv2D(32, (3, 3), strides=(1, 1), padding='same', activation='relu'))"
   ]
  },
  {
   "cell_type": "code",
   "execution_count": null,
   "metadata": {
    "colab": {
     "base_uri": "https://localhost:8080/"
    },
    "id": "3-ePFMYx-AxD",
    "outputId": "fa5a845f-6753-4c66-ee31-99033c6117a9"
   },
   "outputs": [],
   "source": [
    "my_first_CNN.summary()"
   ]
  },
  {
   "cell_type": "code",
   "execution_count": null,
   "metadata": {
    "colab": {
     "base_uri": "https://localhost:8080/"
    },
    "id": "oDER7YdA-F2S",
    "outputId": "e327b463-70b5-40e9-977e-ec126b59b58f"
   },
   "outputs": [],
   "source": [
    "print(my_first_CNN.layers[0].input_shape)\n",
    "print(my_first_CNN.layers[1].input_shape)"
   ]
  },
  {
   "cell_type": "code",
   "execution_count": null,
   "metadata": {
    "id": "4_Ppfs4G-KUr"
   },
   "outputs": [],
   "source": [
    "# Initialisation du modèle\n",
    "my_first_CNN_BZ16 = Sequential()\n",
    "\n",
    "# Première couche de convolution\n",
    "my_first_CNN_BZ16.add(Conv2D(32, (3, 3), strides=(1, 1), padding='same', batch_size=16, input_shape=(img_rows, img_cols, num_channel)))\n",
    "my_first_CNN_BZ16.add(Activation('relu'))\n",
    "\n",
    "# Deuxième couche de convolution\n",
    "my_first_CNN_BZ16.add(Conv2D(32, (3, 3), strides=(1, 1), padding='same', batch_size=16))\n",
    "my_first_CNN_BZ16.add(Activation('relu'))\n",
    "\n",
    "# Troisième couche de convolution\n",
    "my_first_CNN_BZ16.add(Conv2D(32, (3, 3), strides=(1, 1), padding='same', batch_size=16))\n",
    "my_first_CNN_BZ16.add(Activation('relu'))\n",
    "\n",
    "# Quatrième couche de convolution\n",
    "my_first_CNN_BZ16.add(Conv2D(32, (3, 3), strides=(1, 1), padding='same', batch_size=16))\n",
    "my_first_CNN_BZ16.add(Activation('relu'))"
   ]
  },
  {
   "cell_type": "code",
   "execution_count": null,
   "metadata": {
    "colab": {
     "base_uri": "https://localhost:8080/"
    },
    "id": "oj8cSSlX-QIs",
    "outputId": "6fd13939-a6fe-4496-d889-bbfb83d94f70"
   },
   "outputs": [],
   "source": [
    "# Pour acceder à la dernière couche\n",
    "der_couche = my_first_CNN_BZ16.layers[-1]\n",
    "\n",
    "#Forme de la sortie de cette couche\n",
    "dim_couche_cache = der_couche.output_shape\n",
    "print(f'la dimension de la couche caché est:',dim_couche_cache)"
   ]
  },
  {
   "cell_type": "code",
   "execution_count": null,
   "metadata": {
    "colab": {
     "base_uri": "https://localhost:8080/"
    },
    "id": "2t8vQAhI-Tsv",
    "outputId": "1374b80b-4308-4f73-9d5f-8c19db8d906f"
   },
   "outputs": [],
   "source": [
    "#Formes des sorties de chaque couche\n",
    "for layer in my_first_CNN_BZ16.layers:\n",
    "    print(layer.output_shape)"
   ]
  },
  {
   "cell_type": "code",
   "execution_count": null,
   "metadata": {
    "colab": {
     "base_uri": "https://localhost:8080/"
    },
    "id": "_IuhHAuh-W4Y",
    "outputId": "0839096e-fde9-4674-e534-75062a67a96f"
   },
   "outputs": [],
   "source": [
    "my_first_CNN_BZ16.summary()"
   ]
  },
  {
   "cell_type": "code",
   "execution_count": null,
   "metadata": {
    "colab": {
     "base_uri": "https://localhost:8080/"
    },
    "id": "spyKe6Wy-atE",
    "outputId": "42854487-03e8-4035-df89-4365cd5e0e61"
   },
   "outputs": [],
   "source": [
    "np.shape(my_first_CNN_BZ16.layers[2].get_weights()[0])"
   ]
  },
  {
   "cell_type": "code",
   "execution_count": null,
   "metadata": {
    "colab": {
     "base_uri": "https://localhost:8080/"
    },
    "id": "rlJOVByp-eXb",
    "outputId": "a90cb86f-f934-4526-ae52-70bfc4afc750"
   },
   "outputs": [],
   "source": [
    "#Nombre de poids à estimer\n",
    "nombre_poids = my_first_CNN_BZ16.count_params()\n",
    "\n",
    "print(f\"Le nombre de poids à estimer dans le modèle est : {nombre_poids}\")"
   ]
  },
  {
   "cell_type": "code",
   "execution_count": null,
   "metadata": {
    "colab": {
     "base_uri": "https://localhost:8080/"
    },
    "id": "7LIBWKGF-iIJ",
    "outputId": "6be9c008-6600-4578-85fa-41685ac9a3c0"
   },
   "outputs": [],
   "source": [
    "#Nombre de paramètres pour les termes de biais\n",
    "nombre_parametres_biais = my_first_CNN_BZ16.count_params()\n",
    "nombre_parametres_biais2 = sum([layer.count_params() for layer in my_first_CNN_BZ16.layers if hasattr(layer, 'bias')])\n",
    "\n",
    "print(f\"Le nombre de paramètres de biais à estimer est : {nombre_parametres_biais},\",f\"ou : {nombre_parametres_biais2}\" )"
   ]
  },
  {
   "cell_type": "code",
   "execution_count": null,
   "metadata": {
    "colab": {
     "base_uri": "https://localhost:8080/"
    },
    "id": "SJmqE2Kq-mHY",
    "outputId": "63558385-81d7-411a-d9ec-a2139c8cb1a5"
   },
   "outputs": [],
   "source": [
    "nombre_parametres_poids_troisieme_couche = len(my_first_CNN_BZ16.layers[2].get_weights()[0].flatten())\n",
    "print(f\"Le nombre de paramètres de poids pour la troisième couche est : {nombre_parametres_poids_troisieme_couche}\")"
   ]
  },
  {
   "cell_type": "code",
   "execution_count": null,
   "metadata": {
    "colab": {
     "base_uri": "https://localhost:8080/"
    },
    "id": "QbedI_gK-pp9",
    "outputId": "68873e36-b733-4a50-bf1e-8c2f4b398d97"
   },
   "outputs": [],
   "source": [
    "nombre_parametres_biais_troisieme_couche = len(my_first_CNN_BZ16.layers[2].get_weights()[1])\n",
    "print(f\"Le nombre de paramètres de biais pour la troisième couche est : {nombre_parametres_biais_troisieme_couche}\")"
   ]
  },
  {
   "cell_type": "code",
   "execution_count": null,
   "metadata": {
    "colab": {
     "base_uri": "https://localhost:8080/"
    },
    "id": "fpnjcftz-tRP",
    "outputId": "829652a2-1000-42bc-a4f9-7e1f9fec4d0f"
   },
   "outputs": [],
   "source": [
    "# Vérification des poids et des biais après l'initialisation\n",
    "poids = my_first_CNN_BZ16.layers[0].get_weights()[0]\n",
    "biais = my_first_CNN_BZ16.layers[0].get_weights()[1]\n",
    "\n",
    "print(\"Première couche - Poids (filtres) :\")\n",
    "print(poids)\n",
    "\n",
    "print(\"\\nPremière couche - Biais :\")\n",
    "print(biais)"
   ]
  },
  {
   "cell_type": "code",
   "execution_count": null,
   "metadata": {
    "id": "aXgORV3w-xBJ"
   },
   "outputs": [],
   "source": [
    "from tensorflow.keras.models import Sequential\n",
    "from tensorflow.keras.layers import Conv2D, Activation, MaxPooling2D, Dropout, Flatten, Dense\n",
    "\n",
    "# Initialisation du modèle\n",
    "my_first_CNN = Sequential()\n",
    "\n",
    "# Première couche de convolution\n",
    "my_first_CNN.add(Conv2D(32, (3, 3), padding='same', input_shape=(128, 128, 1)))\n",
    "my_first_CNN.add(Activation('relu'))\n",
    "\n",
    "# Deuxième couche de convolution\n",
    "my_first_CNN.add(Conv2D(32, (3, 3), padding='same'))\n",
    "my_first_CNN.add(Activation('relu'))\n",
    "\n",
    "# MaxPooling2D\n",
    "my_first_CNN.add(MaxPooling2D((2, 2)))\n",
    "\n",
    "# Dropout\n",
    "my_first_CNN.add(Dropout(0.5))\n",
    "\n",
    "# Troisième couche de convolution\n",
    "my_first_CNN.add(Conv2D(64, (3, 3), padding='same'))\n",
    "my_first_CNN.add(Activation('relu'))\n",
    "\n",
    "# MaxPooling2D\n",
    "my_first_CNN.add(MaxPooling2D((2, 2)))\n",
    "\n",
    "# Dropout\n",
    "my_first_CNN.add(Dropout(0.5))\n",
    "\n",
    "# Aplatissement des données\n",
    "my_first_CNN.add(Flatten())\n",
    "\n",
    "# Couche Dense (Fully Connected)\n",
    "my_first_CNN.add(Dense(64))\n",
    "my_first_CNN.add(Activation('relu'))\n",
    "\n",
    "# Dropout\n",
    "my_first_CNN.add(Dropout(0.5))\n",
    "\n",
    "# Couche de sortie avec 4 classes et fonction d'activation softmax\n",
    "my_first_CNN.add(Dense(4, activation='softmax'))"
   ]
  },
  {
   "cell_type": "code",
   "execution_count": null,
   "metadata": {
    "colab": {
     "base_uri": "https://localhost:8080/"
    },
    "id": "h9zHc-U3-2bH",
    "outputId": "97337ad2-08fe-4a46-d0a4-8872904ed1fb"
   },
   "outputs": [],
   "source": [
    "my_first_CNN.summary()"
   ]
  },
  {
   "cell_type": "code",
   "execution_count": null,
   "metadata": {
    "id": "FbdWhfQ9-5hT"
   },
   "outputs": [],
   "source": [
    "# Importation des optimiseurs SGD et Adam\n",
    "from tensorflow.keras.optimizers import SGD, Adam"
   ]
  },
  {
   "cell_type": "code",
   "execution_count": null,
   "metadata": {
    "colab": {
     "base_uri": "https://localhost:8080/"
    },
    "id": "MjUHNR-A-9VA",
    "outputId": "6a87a469-1a46-49c1-8ffc-c4032346acb9"
   },
   "outputs": [],
   "source": [
    "print(images_train.shape,labels_train.shape)"
   ]
  },
  {
   "cell_type": "code",
   "execution_count": null,
   "metadata": {
    "id": "sSgQxtuP_ALD"
   },
   "outputs": [],
   "source": [
    "# Initialisation du modèle\n",
    "my_first_CNN = Sequential()\n",
    "\n",
    "# Première couche de convolution\n",
    "my_first_CNN.add(Conv2D(32, (3, 3), padding='same', input_shape=(128, 128, 1)))\n",
    "my_first_CNN.add(Activation('relu'))\n",
    "\n",
    "# Deuxième couche de convolution\n",
    "my_first_CNN.add(Conv2D(32, (3, 3), padding='same'))\n",
    "my_first_CNN.add(Activation('relu'))\n",
    "\n",
    "# MaxPooling2D\n",
    "my_first_CNN.add(MaxPooling2D((2, 2)))\n",
    "\n",
    "# Dropout\n",
    "my_first_CNN.add(Dropout(0.5))\n",
    "\n",
    "# Troisième couche de convolution\n",
    "my_first_CNN.add(Conv2D(64, (3, 3), padding='same'))\n",
    "my_first_CNN.add(Activation('relu'))\n",
    "\n",
    "# MaxPooling2D\n",
    "my_first_CNN.add(MaxPooling2D((2, 2)))\n",
    "\n",
    "# Dropout\n",
    "my_first_CNN.add(Dropout(0.5))\n",
    "\n",
    "# Aplatissement des données\n",
    "my_first_CNN.add(Flatten())\n",
    "\n",
    "# Couche Dense (Fully Connected)\n",
    "my_first_CNN.add(Dense(64))\n",
    "my_first_CNN.add(Activation('relu'))\n",
    "\n",
    "# Dropout\n",
    "my_first_CNN.add(Dropout(0.5))\n",
    "\n",
    "# Couche de sortie avec 4 classes et fonction d'activation softmax\n",
    "my_first_CNN.add(Dense(4, activation='softmax'))\n",
    "\n",
    "# Configuration de l'optimiseur SGD\n",
    "sgd_optimizer = SGD(learning_rate=0.01, momentum=0.9)\n",
    "\n",
    "# Compilation du modèle avec l'optimiseur SGD\n",
    "my_first_CNN.compile(optimizer=sgd_optimizer, loss='categorical_crossentropy', metrics=['accuracy'])\n"
   ]
  },
  {
   "cell_type": "code",
   "execution_count": null,
   "metadata": {
    "id": "n1E9OM43_ECK"
   },
   "outputs": [],
   "source": [
    "# Initialisation du modèle\n",
    "my_first_CNN = Sequential()\n",
    "\n",
    "# Première couche de convolution\n",
    "my_first_CNN.add(Conv2D(32, (3, 3), padding='same', input_shape=(128, 128, 1)))\n",
    "my_first_CNN.add(Activation('relu'))\n",
    "\n",
    "# Deuxième couche de convolution\n",
    "my_first_CNN.add(Conv2D(32, (3, 3), padding='same'))\n",
    "my_first_CNN.add(Activation('relu'))\n",
    "\n",
    "# MaxPooling2D\n",
    "my_first_CNN.add(MaxPooling2D((2, 2)))\n",
    "\n",
    "# Dropout\n",
    "my_first_CNN.add(Dropout(0.5))\n",
    "\n",
    "# Troisième couche de convolution\n",
    "my_first_CNN.add(Conv2D(64, (3, 3), padding='same'))\n",
    "my_first_CNN.add(Activation('relu'))\n",
    "\n",
    "# MaxPooling2D\n",
    "my_first_CNN.add(MaxPooling2D((2, 2)))\n",
    "\n",
    "# Dropout\n",
    "my_first_CNN.add(Dropout(0.5))\n",
    "\n",
    "# Aplatissement des données\n",
    "my_first_CNN.add(Flatten())\n",
    "\n",
    "# Couche Dense (Fully Connected)\n",
    "my_first_CNN.add(Dense(64))\n",
    "my_first_CNN.add(Activation('relu'))\n",
    "\n",
    "# Dropout\n",
    "my_first_CNN.add(Dropout(0.5))\n",
    "\n",
    "# Couche de sortie avec 4 classes et fonction d'activation softmax\n",
    "my_first_CNN.add(Dense(4, activation='softmax'))\n",
    "\n",
    "# Configuration de l'optimiseur Adam\n",
    "adam_optimizer = Adam()\n",
    "\n",
    "# Compilation du modèle avec l'optimiseur Adam\n",
    "my_first_CNN.compile(optimizer=adam_optimizer, loss='categorical_crossentropy', metrics=['accuracy'])\n"
   ]
  },
  {
   "cell_type": "code",
   "execution_count": null,
   "metadata": {
    "colab": {
     "base_uri": "https://localhost:8080/",
     "height": 671
    },
    "id": "UuP22vRe_IaI",
    "outputId": "feffce45-945d-4f55-c2bb-17b6953c1b73"
   },
   "outputs": [],
   "source": [
    "# Entraînement du modèle\n",
    "Entr_mod = my_first_CNN.fit(images_train, labels_train, epochs=10, batch_size=32, validation_split=0.2)#one_hot_labels\n",
    "\n",
    "# Récupération des métriques d'apprentissage\n",
    "loss_train = Entr_mod.history['loss']\n",
    "accuracy_train = Entr_mod.history['accuracy']\n",
    "val_loss = Entr_mod.history['val_loss']\n",
    "val_accuracy = Entr_mod.history['val_accuracy']\n",
    "\n",
    "#Graphe du risque de cross-entropy\n",
    "plt.figure(figsize=(12, 4))\n",
    "plt.subplot(1, 2, 1)\n",
    "plt.plot(loss_train, label='Train')\n",
    "plt.plot(val_loss, label='Validation')\n",
    "plt.title('Loss (Cross-Entropy) sgd')\n",
    "plt.xlabel('Epochs')\n",
    "plt.ylabel('Loss')\n",
    "plt.legend()\n",
    "\n",
    "#Graphe de la précision\n",
    "plt.subplot(1, 2, 2)\n",
    "plt.plot(accuracy_train, label='Train')\n",
    "plt.plot(val_accuracy, label='Validation')\n",
    "plt.title('Accuracy (sgd)')\n",
    "plt.xlabel('Epochs')\n",
    "plt.ylabel('Accuracy')\n",
    "plt.legend()\n",
    "\n",
    "plt.tight_layout()\n",
    "plt.show()\n"
   ]
  },
  {
   "cell_type": "code",
   "execution_count": null,
   "metadata": {
    "colab": {
     "base_uri": "https://localhost:8080/",
     "height": 671
    },
    "id": "1YOZyfP8_NBT",
    "outputId": "2c5294ee-0525-4cd3-c0b7-eb2d72314b03"
   },
   "outputs": [],
   "source": [
    "# Entraînement du modèle avec l'optimiseur Adam\n",
    "Entr_mod_adam = my_first_CNN.fit(images_train,labels_train, epochs=10, batch_size=32, validation_split=0.2)#one_hot_labels\n",
    "\n",
    "# Récupération des métriques d'apprentissage\n",
    "loss_train_adam = Entr_mod_adam.history['loss']\n",
    "accuracy_train_adam = Entr_mod_adam.history['accuracy']\n",
    "val_loss_adam = Entr_mod_adam.history['val_loss']\n",
    "val_accuracy_adam = Entr_mod_adam.history['val_accuracy']\n",
    "\n",
    "#Graphe du risque de cross-entropy\n",
    "plt.figure(figsize=(12, 4))\n",
    "plt.subplot(1, 2, 1)\n",
    "plt.plot(loss_train_adam, label='Train')\n",
    "plt.plot(val_loss_adam, label='Validation')\n",
    "plt.title('Loss (Cross-Entropy) - Adam')\n",
    "plt.xlabel('Epochs')\n",
    "plt.ylabel('Loss')\n",
    "plt.legend()\n",
    "\n",
    "#Graphe de la précision\n",
    "plt.subplot(1, 2, 2)\n",
    "plt.plot(accuracy_train_adam, label='Train')\n",
    "plt.plot(val_accuracy_adam, label='Validation')\n",
    "plt.title('Accuracy - Adam')\n",
    "plt.xlabel('Epochs')\n",
    "plt.ylabel('Accuracy')\n",
    "plt.legend()\n",
    "\n",
    "plt.tight_layout()\n",
    "plt.show()\n"
   ]
  },
  {
   "cell_type": "code",
   "execution_count": null,
   "metadata": {
    "colab": {
     "base_uri": "https://localhost:8080/"
    },
    "id": "ud1zPylZ_o8o",
    "outputId": "e0173a1b-a158-486d-bf57-7e53002ded4e"
   },
   "outputs": [],
   "source": [
    "print(images_test.shape,labels_test.shape)"
   ]
  },
  {
   "cell_type": "code",
   "execution_count": null,
   "metadata": {
    "colab": {
     "base_uri": "https://localhost:8080/"
    },
    "id": "rQi648hY_xDb",
    "outputId": "f771b62e-8f0a-4cea-bd3d-922469601a95"
   },
   "outputs": [],
   "source": [
    "# Évaluation du modèle sur l'échantillon de test\n",
    "test_loss, test_accuracy = my_first_CNN.evaluate(images_test,labels_test)\n",
    "\n",
    "print(f\"Risque de Cross-Entropy sur l'échantillon de test : {test_loss}\")\n",
    "print(f\"Précision sur l'échantillon de test : {test_accuracy}\")"
   ]
  },
  {
   "cell_type": "code",
   "execution_count": null,
   "metadata": {
    "colab": {
     "base_uri": "https://localhost:8080/"
    },
    "id": "-L0BVese_0WI",
    "outputId": "edab2533-3ae3-4b7a-9485-060ab99b5a1f"
   },
   "outputs": [],
   "source": [
    "from sklearn.metrics import classification_report, confusion_matrix\n",
    "\n",
    "#Prédictions sur l'échantillon de test\n",
    "predictions = np.argmax(my_first_CNN.predict(images_test), axis=1)\n",
    "\n",
    "#Conversion des étiquettes réelles\n",
    "vrai_labels = np.argmax(labels_test, axis=1)\n",
    "\n",
    "#Rapport de classification\n",
    "rapport = classification_report(vrai_labels, predictions, zero_division=0)\n",
    "print(\"Rapport de classification:\")\n",
    "print(rapport)\n",
    "\n",
    "#Matrice de confusion\n",
    "mat_confusion = confusion_matrix(vrai_labels, predictions)\n",
    "print(\"\\nMatrice de confusion:\")\n",
    "print(mat_confusion)\n"
   ]
  },
  {
   "cell_type": "code",
   "execution_count": null,
   "metadata": {
    "colab": {
     "base_uri": "https://localhost:8080/",
     "height": 472
    },
    "id": "RZsEfTXi_3_D",
    "outputId": "b928b7e5-6422-4494-f101-b07b1e78062c"
   },
   "outputs": [],
   "source": [
    "from sklearn.metrics import ConfusionMatrixDisplay\n",
    "\n",
    "# Création de l'objet ConfusionMatrixDisplay\n",
    "cm_display = ConfusionMatrixDisplay(confusion_matrix=mat_confusion, display_labels=names)\n",
    "\n",
    "#Matrice de confusion\n",
    "cm_display.plot(cmap=plt.cm.Blues)\n",
    "plt.title(\"Matrice de Confusion\")\n",
    "plt.show()\n"
   ]
  },
  {
   "cell_type": "code",
   "execution_count": null,
   "metadata": {
    "id": "DInW5u3T_77c"
   },
   "outputs": [],
   "source": [
    "# Sauvegarde de l'architecture du réseau au format JSON\n",
    "architecture_json = my_first_CNN.to_json()\n",
    "with open('architecture.json', 'w') as json_file:\n",
    "    json_file.write(architecture_json)\n"
   ]
  },
  {
   "cell_type": "code",
   "execution_count": null,
   "metadata": {
    "colab": {
     "base_uri": "https://localhost:8080/"
    },
    "id": "RNq9ujLy__0y",
    "outputId": "43bf613a-3c9a-4c96-8ff1-5e82c07c8fe6"
   },
   "outputs": [],
   "source": [
    "with open('architecture.json', 'r') as json_file:\n",
    "    Sauvegarde = json_file.read()\n",
    "\n",
    "print(Sauvegarde)\n"
   ]
  },
  {
   "cell_type": "code",
   "execution_count": null,
   "metadata": {
    "colab": {
     "base_uri": "https://localhost:8080/"
    },
    "id": "t2xZGRMYAFAd",
    "outputId": "2a9e54e2-fa2d-408c-a523-43d96065ade2"
   },
   "outputs": [],
   "source": [
    "import os\n",
    "\n",
    "# Taille du fichier en octets\n",
    "taille = os.path.getsize('architecture.json')\n",
    "\n",
    "# Conversion en kilo-octets (1 Ko = 1024 octets)\n",
    "taille_kb = taille / 1024\n",
    "\n",
    "print(f\"La taille du fichier JSON est de {taille_kb:.2f} Ko\")\n"
   ]
  },
  {
   "cell_type": "code",
   "execution_count": null,
   "metadata": {
    "id": "jGhl9iBRAKyl"
   },
   "outputs": [],
   "source": [
    "# Sauvegarde du modèle complet\n",
    "my_first_CNN.save('mon_model')#sauvegarde sur mon ordinateur"
   ]
  },
  {
   "cell_type": "code",
   "execution_count": null,
   "metadata": {
    "id": "_KqZ9WtvAVKq"
   },
   "outputs": [],
   "source": [
    "from tensorflow.keras.models import load_model\n",
    "\n",
    "loaded_model = load_model('/content/mon_model')#après avoir uploader mon_model dans Colab"
   ]
  },
  {
   "cell_type": "code",
   "execution_count": null,
   "metadata": {
    "colab": {
     "base_uri": "https://localhost:8080/"
    },
    "id": "ZTLIvJDuAYDM",
    "outputId": "0b4e33be-0fca-4a15-bb6e-ba37a6897fad"
   },
   "outputs": [],
   "source": [
    "import shutil\n",
    "\n",
    "#Taille du répertoire en octets\n",
    "dir_size = shutil.disk_usage('mon_model').used\n",
    "\n",
    "# Conversion en méga-octets (1 Mo = 1024 * 1024 octets)\n",
    "dir_size_mb = dir_size / (1024 * 1024)\n",
    "\n",
    "print(f\"La taille du répertoire du modèle est de {dir_size_mb:.2f} Mo\")"
   ]
  },
  {
   "cell_type": "code",
   "execution_count": null,
   "metadata": {
    "colab": {
     "base_uri": "https://localhost:8080/"
    },
    "id": "G7Lsvg_vAcRg",
    "outputId": "10d24f95-513b-4221-fcc2-c9800875ea26"
   },
   "outputs": [],
   "source": [
    "#Poids du modèle original\n",
    "original = my_first_CNN.get_weights()\n",
    "\n",
    "#Poids du modèle chargé\n",
    "charge = loaded_model.get_weights()\n",
    "\n",
    "# Vérification de l'égalité des poids\n",
    "verif = all([np.array_equal(w1, w2) for w1, w2 in zip(original, charge)])\n",
    "\n",
    "if verif:\n",
    "    print(\"Les poids du réseau original et du réseau chargé sont identiques.\")\n",
    "else:\n",
    "    print(\"Les poids du réseau original et du réseau chargé ne sont pas identiques.\")"
   ]
  },
  {
   "cell_type": "code",
   "execution_count": null,
   "metadata": {
    "colab": {
     "base_uri": "https://localhost:8080/"
    },
    "id": "aryJpbcSAgRF",
    "outputId": "edb53197-3487-4ef8-a711-2cb0d8e6cc09"
   },
   "outputs": [],
   "source": [
    "from tensorflow.keras.models import load_model\n",
    "\n",
    "# Chargement du modèle complet\n",
    "chargement_model = load_model('/content/mon_model')\n",
    "\n",
    "#Prédictions\n",
    "predictions = chargement_model.predict(images_test)\n",
    "\n",
    "# Calcul d'un score (par exemple, la précision)\n",
    "test_loss, test_accuracy = chargement_model.evaluate(images_test, labels_test)\n",
    "\n",
    "print(f\"Prédictions : {predictions}\")\n",
    "print(f\"Précision : {test_accuracy}\")"
   ]
  },
  {
   "cell_type": "code",
   "execution_count": null,
   "metadata": {
    "id": "ANgAQOjoAj57"
   },
   "outputs": [],
   "source": []
  },
  {
   "cell_type": "markdown",
   "metadata": {
    "id": "faVUhBFvrjle"
   },
   "source": []
  }
 ],
 "metadata": {
  "colab": {
   "include_colab_link": true,
   "provenance": []
  },
  "kernelspec": {
   "display_name": "Python 3 (ipykernel)",
   "language": "python",
   "name": "python3"
  },
  "language_info": {
   "codemirror_mode": {
    "name": "ipython",
    "version": 3
   },
   "file_extension": ".py",
   "mimetype": "text/x-python",
   "name": "python",
   "nbconvert_exporter": "python",
   "pygments_lexer": "ipython3",
   "version": "3.11.5"
  }
 },
 "nbformat": 4,
 "nbformat_minor": 4
}
